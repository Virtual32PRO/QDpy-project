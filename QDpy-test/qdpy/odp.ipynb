{
 "cells": [
  {
   "cell_type": "code",
   "execution_count": null,
   "id": "7b18a774",
   "metadata": {},
   "outputs": [],
   "source": [
    "import pickle, gym\n",
    "from cartpole_qdpy import linear_policy\n",
    "\n",
    "with open(\"results/…/final_container.pkl\", \"rb\") as f:\n",
    "    data  = pickle.load(f)\n",
    "    best  = data[\"container\"].best\n",
    "    print(best.fitness, best.features, best)\n",
    "    env = gym.make(\"CartPole-v1\", render_mode=\"human\")\n",
    "    obs, _ = env.reset()\n",
    "    done = False\n",
    "    while not done:\n",
    "        action = linear_policy(best, obs)\n",
    "        obs, reward, terminated, truncated, _ = env.step(action)\n",
    "        done = terminated or truncated\n",
    "    env.close()"
   ]
  }
 ],
 "metadata": {
  "language_info": {
   "name": "python"
  }
 },
 "nbformat": 4,
 "nbformat_minor": 5
}
